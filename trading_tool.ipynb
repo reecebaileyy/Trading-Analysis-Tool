{
 "cells": [
  {
   "cell_type": "code",
   "execution_count": null,
   "metadata": {},
   "outputs": [],
   "source": [
    "import datetime as dt\n",
    "import pandas as pd\n",
    "import yfinance as yf\n",
    "\n",
    "print(dt.datetime.today() - dt.timedelta(360))\n",
    "\n",
    "stocks = [\"AAPL\", \"MSFT\", \"AMZN\", \"GOOG\", \"META\", \"TSLA\"]\n",
    "start = dt.datetime.today() - dt.timedelta(360)\n",
    "end = dt.datetime.today()\n",
    "cl_price = pd.DataFrame() # empty dataframe which will be filled with closing prices of each stock\n",
    "ohlcv_data = {}\n",
    "\n",
    " \n",
    "# looping over tickers and creating a dataframe with close prices\n",
    "for ticker in stocks:\n",
    "    cl_price[ticker] = yf.download(ticker, start, end)[\"Open\"]\n",
    "\n",
    "for ticker in stocks:\n",
    "    ohlcv_data[ticker] = yf.download(ticker, start, end)\n",
    "\n",
    "\n",
    "    "
   ]
  },
  {
   "cell_type": "code",
   "execution_count": 6,
   "metadata": {},
   "outputs": [],
   "source": [
    "import pandas as pd\n",
    "from yahoofinancials import YahooFinancials\n",
    "import datetime as dt\n",
    "\n",
    "all_tickers = [\"AAPL\",\"MSFT\",\"CSCO\",\"AMZN\",\"INTC\"]\n",
    "\n",
    "# extracting stock data (historical close price) for the stocks identified\n",
    "close_prices = pd.DataFrame()\n",
    "end_date = (dt.date.today()).strftime('%Y-%m-%d')\n",
    "beg_date = (dt.date.today()-dt.timedelta(1825)).strftime('%Y-%m-%d')\n",
    "for ticker in all_tickers:\n",
    "    yahoo_financials = YahooFinancials(ticker)\n",
    "    json_obj = yahoo_financials.get_historical_price_data(beg_date,end_date,\"daily\")\n",
    "    ohlv = json_obj[ticker]['prices']\n",
    "    temp = pd.DataFrame(ohlv)[[\"formatted_date\",\"adjclose\"]]\n",
    "    temp.set_index(\"formatted_date\",inplace=True)\n",
    "    temp.dropna(inplace=True)\n",
    "    close_prices[ticker] = temp[\"adjclose\"]\n",
    "    \n",
    "\n",
    "# extracting stock data (ohlcv) for the stocks identified\n",
    "ohlv_dict = {}\n",
    "end_date = (dt.date.today()).strftime('%Y-%m-%d')\n",
    "beg_date = (dt.date.today()-dt.timedelta(1825)).strftime('%Y-%m-%d')\n",
    "for ticker in all_tickers:\n",
    "    yahoo_financials = YahooFinancials(ticker)\n",
    "    json_obj = yahoo_financials.get_historical_price_data(beg_date,end_date,\"daily\")\n",
    "    ohlv = json_obj[ticker]['prices']\n",
    "    temp = pd.DataFrame(ohlv)[[\"formatted_date\",\"adjclose\",\"open\",\"low\",\"high\",\"volume\"]]\n",
    "    temp.set_index(\"formatted_date\",inplace=True)\n",
    "    temp.dropna(inplace=True)\n",
    "    ohlv_dict[ticker] = temp"
   ]
  }
 ],
 "metadata": {
  "kernelspec": {
   "display_name": "venv",
   "language": "python",
   "name": "python3"
  },
  "language_info": {
   "codemirror_mode": {
    "name": "ipython",
    "version": 3
   },
   "file_extension": ".py",
   "mimetype": "text/x-python",
   "name": "python",
   "nbconvert_exporter": "python",
   "pygments_lexer": "ipython3",
   "version": "3.11.3"
  },
  "orig_nbformat": 4
 },
 "nbformat": 4,
 "nbformat_minor": 2
}
