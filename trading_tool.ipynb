{
 "cells": [
  {
   "cell_type": "code",
   "execution_count": 2,
   "metadata": {},
   "outputs": [
    {
     "name": "stdout",
     "output_type": "stream",
     "text": [
      "2022-07-31 10:10:20.455257\n",
      "[*********************100%***********************]  1 of 1 completed\n",
      "[*********************100%***********************]  1 of 1 completed\n",
      "[*********************100%***********************]  1 of 1 completed\n",
      "[*********************100%***********************]  1 of 1 completed\n",
      "[*********************100%***********************]  1 of 1 completed\n",
      "[*********************100%***********************]  1 of 1 completed\n",
      "[*********************100%***********************]  1 of 1 completed\n",
      "[*********************100%***********************]  1 of 1 completed\n",
      "[*********************100%***********************]  1 of 1 completed\n",
      "[*********************100%***********************]  1 of 1 completed\n",
      "[*********************100%***********************]  1 of 1 completed\n",
      "[*********************100%***********************]  1 of 1 completed\n"
     ]
    }
   ],
   "source": [
    "import datetime as dt\n",
    "import pandas as pd\n",
    "import yfinance as yf\n",
    "\n",
    "print(dt.datetime.today() - dt.timedelta(360))\n",
    "\n",
    "stocks = [\"AAPL\", \"MSFT\", \"AMZN\", \"GOOG\", \"META\", \"TSLA\"]\n",
    "start = dt.datetime.today() - dt.timedelta(360)\n",
    "end = dt.datetime.today()\n",
    "cl_price = pd.DataFrame() # empty dataframe which will be filled with closing prices of each stock\n",
    "ohlcv_data = {}\n",
    " \n",
    "# looping over tickers and creating a dataframe with close prices\n",
    "for ticker in stocks:\n",
    "    cl_price[ticker] = yf.download(ticker, start, end)[\"Open\"]\n",
    "\n",
    "for ticker in stocks:\n",
    "    ohlcv_data[ticker] = yf.download(ticker, start, end)\n",
    "\n",
    "\n",
    "    "
   ]
  }
 ],
 "metadata": {
  "kernelspec": {
   "display_name": "venv",
   "language": "python",
   "name": "python3"
  },
  "language_info": {
   "codemirror_mode": {
    "name": "ipython",
    "version": 3
   },
   "file_extension": ".py",
   "mimetype": "text/x-python",
   "name": "python",
   "nbconvert_exporter": "python",
   "pygments_lexer": "ipython3",
   "version": "3.11.3"
  },
  "orig_nbformat": 4
 },
 "nbformat": 4,
 "nbformat_minor": 2
}
